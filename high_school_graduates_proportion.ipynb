{
 "cells": [
  {
   "cell_type": "code",
   "execution_count": 1,
   "metadata": {},
   "outputs": [
    {
     "name": "stdout",
     "output_type": "stream",
     "text": [
      "['high_school_graduates.csv', 'population.csv']\n"
     ]
    }
   ],
   "source": [
    "import pandas as pd\n",
    "from glob import glob\n",
    "print(glob(\"*.csv\"))"
   ]
  },
  {
   "cell_type": "code",
   "execution_count": 2,
   "metadata": {
    "collapsed": true
   },
   "outputs": [],
   "source": [
    "df_population = pd.read_table('population.csv',\n",
    "                              encoding = 'utf8',\n",
    "                              header = 3,\n",
    "                              skiprows = [35,36],\n",
    "                              sep =','\n",
    "                             )\n",
    "df_graduates = pd.read_table('high_school_graduates.csv',\n",
    "                              encoding = 'utf8',\n",
    "                              header = 3,\n",
    "                              skiprows = [35,36],\n",
    "                              sep =','\n",
    "                            )"
   ]
  },
  {
   "cell_type": "code",
   "execution_count": 17,
   "metadata": {
    "collapsed": true
   },
   "outputs": [],
   "source": [
    "df_population.columns = [ int(x.replace('年','')) if x!='地区' else x for x in df_population.columns]\n",
    "years = [ x for x in df_population.columns if x!='地区']\n",
    "df_population_melted = pd.melt(df_population, id_vars=['地区'], value_vars=years)\n",
    "df_population_melted.columns = ['地区', '年', '年末总人口']\n",
    "df_population_done = df_population_melted"
   ]
  },
  {
   "cell_type": "code",
   "execution_count": 19,
   "metadata": {
    "collapsed": true
   },
   "outputs": [],
   "source": [
    "df_graduates.columns = [ int(x.replace('年','')) if x!='地区' else x for x in df_graduates.columns]\n",
    "df_graduates_melted = pd.melt(df_graduates, id_vars=['地区'], value_vars=years)\n",
    "df_graduates_melted.columns = ['地区', '年', '高中毕业人数']\n",
    "df_graduates_done = df_graduates_melted"
   ]
  },
  {
   "cell_type": "code",
   "execution_count": 34,
   "metadata": {},
   "outputs": [],
   "source": [
    "df_pg = df_population_done.join(df_graduates_done,lsuffix='', rsuffix='_毕业').drop([\"地区_毕业\",\"年_毕业\"], axis=1).set_index([\"地区\",\"年\"])"
   ]
  },
  {
   "cell_type": "code",
   "execution_count": 48,
   "metadata": {},
   "outputs": [
    {
     "data": {
      "image/png": "[encoded data removed]",
      "text/plain": [
       "<matplotlib.figure.Figure at 0x19b755800b8>"
      ]
     },
     "metadata": {},
     "output_type": "display_data"
    }
   ],
   "source": [
    "%matplotlib inline\n",
    "import matplotlib as mpl\n",
    "import matplotlib.pyplot as plt\n",
    "import pylab\n",
    "mpl.rcParams['font.sans-serif']=['SimHei']\n",
    "mpl.rcParams['axes.unicode_minus']=False\n",
    "\n",
    "df_plot = df_pg.query(\"年==2015\").plot(kind='scatter', x='年末总人口', y='高中毕业人数', \n",
    "          title = '年末总人口和高中毕业人数的关系：分省数据')"
   ]
  },
  {
   "cell_type": "code",
   "execution_count": null,
   "metadata": {
    "collapsed": true
   },
   "outputs": [],
   "source": []
  }
 ],
 "metadata": {
  "kernelspec": {
   "display_name": "Python 3",
   "language": "python",
   "name": "python3"
  },
  "language_info": {
   "codemirror_mode": {
    "name": "ipython",
    "version": 3
   },
   "file_extension": ".py",
   "mimetype": "text/x-python",
   "name": "python",
   "nbconvert_exporter": "python",
   "pygments_lexer": "ipython3",
   "version": "3.6.1"
  }
 },
 "nbformat": 4,
 "nbformat_minor": 2
}
